{
 "cells":[
  {
   "cell_type":"markdown",
   "source":[
    "# MDP"
   ],
   "attachments":{
    
   },
   "metadata":{
    "datalore":{
     "type":"MD",
     "hide_input_from_viewers":false,
     "hide_output_from_viewers":false,
     "sheet_delimiter":true
    }
   }
  },
  {
   "cell_type":"code",
   "source":[
    "import math\n",
    "import pandas as pd\n",
    "import numpy as np\n",
    "import seaborn as sns\n",
    "from mdptoolbox.mdp import ValueIteration, QLearning, PolicyIteration\n",
    "\n",
    "def split_2P(_from, _to, number_sent):\n",
    "    if _from == 0:\n",
    "        return False, -1, -1\n",
    "    if (_from - number_sent) <= 0:\n",
    "        return False, -1, -1\n",
    "    if (_to + number_sent) >= 5:\n",
    "        return False, -1, -1\n",
    "    return True, (_from - number_sent), (_to + number_sent)\n",
    "\n",
    "def send_sticks(_from, _to):\n",
    "    if _from <= 0:\n",
    "        return False, -1\n",
    "    if _to <= 0:\n",
    "        return False, -1\n",
    "    return True, (_to + _from) % 5\n",
    "\n",
    "def make_state_string(_state):\n",
    "    return f\"[({_state[0][0]},{_state[0][1]}),({_state[1][0]},{_state[1][1]})]\"\n",
    "\n",
    "def state_calculations(player_count, hand_count):\n",
    "    positions = 5 ** (player_count * hand_count)\n",
    "    positions_combinations = math.comb(6, 2)**player_count\n",
    "    return positions, positions_combinations\n",
    "\n",
    "def generate_hands():\n",
    "    _hand_pairs = []\n",
    "    for _i in range(0, 5):\n",
    "        for _j in range(0, 5):\n",
    "            _hand_pairs.append((_i, _j))\n",
    "    return _hand_pairs\n",
    "    \n",
    "def generate_states(players=2):\n",
    "    all_states = []\n",
    "\n",
    "    mod = players % 2\n",
    "    split = (players+mod) \/\/ 2\n",
    "    if mod == 0:\n",
    "        if players == 2:\n",
    "            for state1 in generate_hands():\n",
    "                for state2 in generate_hands():\n",
    "                    all_states.append([state1,  state2])\n",
    "        elif players > 2:\n",
    "            states = generate_states(split)\n",
    "            for state1 in states:\n",
    "                for state2 in states:\n",
    "                    all_states.append(state1 + state2)\n",
    "    else:\n",
    "        _even_states = generate_states(split)\n",
    "        for state2 in range(len(_even_states)):\n",
    "            for state1 in generate_hands():\n",
    "                all_states.append(_even_states[state2] + [state1])\n",
    "\n",
    "    return all_states\n",
    "\n",
    "\n",
    "def get_reward(state):\n",
    "    active_players = []\n",
    "    for i in range(len(state)):\n",
    "        if state[i] != (0,0):\n",
    "            active_players.append(i)\n",
    "    \n",
    "    if len(active_players) < 0:\n",
    "        return 0\n",
    "    elif len(active_players) == 1:\n",
    "        if 0 in active_players:\n",
    "            return 1\n",
    "        else:\n",
    "            return -1\n",
    "    elif len(active_players) > 1:\n",
    "        return 0"
   ],
   "execution_count":11,
   "outputs":[
    
   ],
   "metadata":{
    "datalore":{
     "type":"CODE",
     "hide_input_from_viewers":true,
     "hide_output_from_viewers":true
    }
   }
  },
  {
   "cell_type":"markdown",
   "source":[
    "# Chopsticks Reinforcement Learning and Game Analysis\n",
    "##### W. Aaron Morris\n",
    "\n",
    "## Preface\n",
    "I feel that I have really failed at this project because I don't feel confident in the answer and there is a lot of work still\n",
    "left to do in finishing this analysis. Initially I was disappointed in the fact I couldn't get the appropriate data; however,\n",
    "I am glad that I chose to analyze the game of Chopsticks. I really wanted learn how to analyze large Markov Chains that \n",
    "all states cannot be permutated. My thought was that I could potentially layer in the Bayesian methods previously learned \n",
    "to estimate the transition probabilities. \n",
    "\n",
    "In my first attempt, I implemented the game and have a randomly simulated $40,000$ games; however, I could never wrangle the\n",
    "data I generated. Therefore, I decided to simpliify my project and figure out two states before expanding to more states. I\n",
    "was able to generate the states by looping; however, I found this was taking too long for more players and implemented this \n",
    "using recursion and dynamic programming; this was my first time programming really understanding recurion and dynamic programming. \n",
    "\n",
    "The next hard part was to generate the right transition matrix. I found myself having a **super** difficult time working \n",
    "with MDPToolbox. In first couple of attempts, I got several erros most of which involved not obtaining an appropriate matrix \n",
    "shape and it being stochastic. After some attempts, I succumbed to manualling implementing the Bellman equation. Through this \n",
    "implementation, I realized the true source of my errors. Initially, I have the entire game-all $n$ players-represented by the \n",
    "transition matrix. Therefore, I modified the probability matrix from only the viewpoint of a single player; thus including the\n",
    "stochastic behavior and transition probabilities given an action. However, this wasn't the only thing wrong; I notice that the\n",
    "shape of each action was different because some states cannot perform certain actions. While the Markov Process of the states was\n",
    "correct, I realized that a Markov Decision Process has $n$ probability matrices of shape $SxS$; one for each action. After\n",
    "a lot of additional reading and watching Youtube videos, I finally found a probability matrix I was pleased with that actually \n",
    "worked with MDPToolbox. \n",
    "\n",
    "After implementing, I was looking through the recommended policies and discovered some very unreasonable behavior. The policy \n",
    "appeared to have learned how to cheat the game. After some playing with various rewards and transitions probabilities, I think\n",
    "that I have arrive at something a lot more reasonable. Given my time constraint, my goal now is to analyze the various algorithms\n",
    "and see how different their policies are.\n",
    "\n",
    "I really started trying to make this a formal paper about the best policy, the implementation of MDPs with a large number of \n",
    "states. However, a lot of my writing has devolved into more me trying to learn how to really think and implement reinforcement \n",
    "learning. This project has defnitely help solidify how to actually implement these algorithms. \n",
    "\n",
    "I feel like I'm a little stuck, but I will probably keep hacking away at this after this class. However, I have decided to\n",
    "throw in a bonus project of analyzing my children's sleep patterns as a baby in hopes to make up for the lacking of my primary project. \n",
    "\n",
    "\n",
    "## Overview\n",
    "Chopsticks is a simple game that teaches kids basic counting and mathematical operations. The game can be directly mapped \n",
    "into a discrete Markov process. During class, we looked at utilizing MDPToolbox to find optimal policies. I will try to apply\n",
    "the ideas behind Discrete Time Markov Chains and MDPToolbox to analyze and derive an appropriate policy for playing chopsticks.\n",
    "\n",
    "Note: I originally set out to find the optimal policy given n players. However, I soon realized that this would be harder than \n",
    "anticipated. I think that I originally set up my data model incorrectly. \n",
    "\n",
    "### Chopsticks Game and Rules\n",
    " The rules are simple.\n",
    "\n",
    "1. All players begin with a predefined number of hands and several chopsticks per hand. Typically, two hands and one chopstick. \n",
    "2. Players take turns picking an offensive hand and the opponent's (defensive) hand. The number of chopsticks in the offensive \n",
    "   hand gets added to the defensive hand. A player may also choose to redistribute their chopsticks between two of their own \n",
    "   hands. \n",
    "3. The defensive player's hand is assessed at the end of each turn. A hand with five or more chopsticks is considered dead and \n",
    "   can be brought back through redistribution. A more interesting variant-that this project will analyze-subtracts the number \n",
    "   of chopsticks over 5 from 5. For example, the defensive hand has seven chopsticks after an attack. The player would be left \n",
    "   with three chopsticks at the end of the round. \n",
    "4. The last player alive wins.\n",
    "\n",
    "### States and Actions\n",
    "With two players and two hands, the number of potential states can be calculated with a simple $5^4 = 625$ states. Keeping the number of hands constant, this grows by a power of 2 with each new player added. There can be some advantages taken given the symmetry of some of the more basic versions of the game. Given my desire to create an algorithm flexible enough to handle any configuration, "
   ],
   "attachments":{
    
   },
   "metadata":{
    "datalore":{
     "type":"MD",
     "hide_input_from_viewers":true,
     "hide_output_from_viewers":false
    }
   }
  },
  {
   "cell_type":"code",
   "source":[
    "action = []\n",
    "for a in range(1,2):\n",
    "    for i in range(1,5):\n",
    "        for j in range(1,5):\n",
    "            for l in range(1, 5):\n",
    "                if (l + j < 5) and (i - l) >= 0:\n",
    "                    action.append([(a, i), (j , l)])\n",
    "\n",
    "\n",
    "print(\"Possible States for 2 Players: {s[0]} (Distinct Combinations {s[1]})\".format(s=state_calculations(2, 2)))\n",
    "print(\"Possible States for 3 Players: {s[0]} (Distinct Combinations {s[1]})\".format(s=state_calculations(3, 2)))\n",
    "print(\"Possible States for 4 Players: {s[0]} (Distinct Combinations {s[1]})\".format(s=state_calculations(4, 2)))\n",
    "print(\"Possible States for 5 Players: {s[0]} (Distinct Combinations {s[1]})\".format(s=state_calculations(5, 2)))"
   ],
   "execution_count":12,
   "outputs":[
    {
     "name":"stdout",
     "text":[
      "Possible States for 2 Players: 625 (Distinct Combinations 225)\n",
      "Possible States for 3 Players: 15625 (Distinct Combinations 3375)\n",
      "Possible States for 4 Players: 390625 (Distinct Combinations 50625)\n",
      "Possible States for 5 Players: 9765625 (Distinct Combinations 759375)\n"
     ],
     "output_type":"stream"
    }
   ],
   "metadata":{
    "datalore":{
     "type":"CODE",
     "hide_input_from_viewers":true,
     "hide_output_from_viewers":false
    }
   }
  },
  {
   "cell_type":"code",
   "source":[
    "import numpy as np\n",
    "x = np.linspace(0,3, 100)\n",
    "y1, y2 = state_calculations(x, 2)\n",
    "import matplotlib.pyplot as plt\n",
    "\n",
    "fig, ax = plt.subplots()\n",
    "ax.plot(x, y1)\n",
    "# plt.yscale('log')\n",
    "ax.ticklabel_format(style='plain')\n",
    "plt.show()\n",
    "\n",
    "del x, y1, y2"
   ],
   "execution_count":13,
   "outputs":[
    {
     "data":{
      "image\/png":"[encoded data removed]"
     },
     "metadata":{
      "image\/png":{
       
      }
     },
     "output_type":"display_data"
    }
   ],
   "metadata":{
    "datalore":{
     "type":"CODE",
     "hide_input_from_viewers":true,
     "hide_output_from_viewers":false
    }
   }
  },
  {
   "cell_type":"markdown",
   "source":[
    "While the game is primarily played with two individuals, the \n",
    "game can be expanded to $n$ number of players. The task of \n",
    "permutating through the number of states amongst two players \n",
    "is relatively straightforward. As more players are added, \n",
    "approximation methods need to be utilized. As players are \n",
    "eliminated, the new state space can be mapped to a new game \n",
    "with $n-1$ players starting in a particular state. \n",
    "This project will examine the best policy for a game with \n",
    "3 players and create a framework for coming up with a \n",
    "efficient strategy for n players utilizing dynamic programming.\n",
    "We will begin by trying to figure an efficient strategy for two\n",
    "player and expand to $n+$ players. "
   ],
   "attachments":{
    
   },
   "metadata":{
    "datalore":{
     "type":"MD",
     "hide_input_from_viewers":true,
     "hide_output_from_viewers":true
    }
   }
  },
  {
   "cell_type":"markdown",
   "source":[
    "##### States and Rewards\n",
    "\n",
    "In my initial tests, we can quickly see our ability to \n",
    "permute the state space is diminishing. Ferguson and \n",
    "Pumperla state, \"If you could read out a hypothetical \n",
    "sequence all the way to the end of the game, you’d know \n",
    "who’d win; it’s easy to decide whether that’s a good \n",
    "sequence. But that’s not practical in any game more \n",
    "complex than tic-tac-toe: the number of possible \n",
    "variations is just too large\" \n",
    "(Ferguson, Kevin; Pumperla, Max 2019). \n",
    "\n",
    "The game of Chopsticks has an interesting attribute. \n",
    "Upon a player being eliminated, a new game starts with \n",
    "$n-1$ players with a specific starting space. I'm hoping\n",
    "that dynamic programming can take advantage of this;\n",
    "however, I don't know how this will work yet. "
   ],
   "attachments":{
    
   },
   "metadata":{
    "datalore":{
     "type":"MD",
     "hide_input_from_viewers":true,
     "hide_output_from_viewers":false
    }
   }
  },
  {
   "cell_type":"code",
   "source":[
    "%%time\n",
    "all_states = generate_states(2)\n",
    "print(f\"2 Players States: {len(all_states)}\")"
   ],
   "execution_count":14,
   "outputs":[
    {
     "name":"stdout",
     "text":[
      "2 Players States: 625\n",
      "CPU times: user 1.54 ms, sys: 0 ns, total: 1.54 ms\n",
      "Wall time: 1.62 ms\n"
     ],
     "output_type":"stream"
    }
   ],
   "metadata":{
    "datalore":{
     "type":"CODE",
     "hide_input_from_viewers":true,
     "hide_output_from_viewers":false
    }
   }
  },
  {
   "cell_type":"code",
   "source":[
    "%%time\n",
    "print(f\"3 Players States Generated: {len(generate_states(3))}\")"
   ],
   "execution_count":15,
   "outputs":[
    {
     "name":"stdout",
     "text":[
      "3 Players States Generated: 15625\n",
      "CPU times: user 18.2 ms, sys: 193 µs, total: 18.4 ms\n",
      "Wall time: 18.6 ms\n"
     ],
     "output_type":"stream"
    }
   ],
   "metadata":{
    "datalore":{
     "type":"CODE",
     "hide_input_from_viewers":true,
     "hide_output_from_viewers":false
    }
   }
  },
  {
   "cell_type":"code",
   "source":[
    "%%time\n",
    "print(f\" 4 Players States Generated: {len(generate_states(4))}\")"
   ],
   "execution_count":16,
   "outputs":[
    {
     "name":"stdout",
     "text":[
      " 4 Players States Generated: 390625\n",
      "CPU times: user 598 ms, sys: 21.7 ms, total: 620 ms\n",
      "Wall time: 895 ms\n"
     ],
     "output_type":"stream"
    }
   ],
   "metadata":{
    "datalore":{
     "type":"CODE",
     "hide_input_from_viewers":true,
     "hide_output_from_viewers":false
    }
   }
  },
  {
   "cell_type":"code",
   "source":[
    "r = [get_reward(state) for state in all_states]"
   ],
   "execution_count":17,
   "outputs":[
    
   ],
   "metadata":{
    "datalore":{
     "type":"CODE",
     "hide_input_from_viewers":true,
     "hide_output_from_viewers":false
    }
   }
  },
  {
   "cell_type":"markdown",
   "source":[
    "## Chopsticks: 2 Players \n",
    "\n",
    "##### Transitions and Rewards\n",
    "\n",
    "In order to use the MDPToolbox (*Chadès, Iadine, \n",
    "Guillaume Chapron, et al. 2014*), I need to have \n",
    "a square and stochastic transition matrix of shape \n",
    "(Actions, States, States). We already know that \n",
    "there are 625 different state combinations;\n",
    "we easily calculate the 13 actions. We cannot simply \n",
    "multiple these to get the population of states because \n",
    "we are not interested in the next state but the next \n",
    "state for the player with the stochastic behavior of the\n",
    "other player. In permutating these combinations, \n",
    "$5,078,125$ state-action pairs—a number of these combinations\n",
    "are just to satisfy the MDPToolbox requirements."
   ],
   "attachments":{
    
   },
   "metadata":{
    "datalore":{
     "type":"MD",
     "hide_input_from_viewers":true,
     "hide_output_from_viewers":false
    }
   }
  },
  {
   "cell_type":"code",
   "source":[
    "# hand_pairs = []\n",
    "# for i in range(0, 5):\n",
    "#     for j in range(0, 5):\n",
    "#         hand_pairs.append((j, i))\n",
    "\n",
    "# all_states = []\n",
    "# for i in range(len(hand_pairs)):\n",
    "#     for j in range(len(hand_pairs)):\n",
    "#         all_states.append([(hand_pairs[i][0], hand_pairs[i][1]),\n",
    "#                      (hand_pairs[j][0], hand_pairs[j][1])])\n",
    "        \n",
    "# r = []\n",
    "# for state in all_states:\n",
    "#     r.append( -1 if state[0] == (0, 0) else (1 if state[1] == (0, 0) else 0))"
   ],
   "execution_count":18,
   "outputs":[
    
   ],
   "metadata":{
    "datalore":{
     "type":"CODE",
     "hide_input_from_viewers":true,
     "hide_output_from_viewers":false
    }
   }
  },
  {
   "cell_type":"code",
   "source":[
    "def get_transition_matrix(all_states):\n",
    "    index_map = {make_state_string(state): all_states.index(state) for state in all_states}\n",
    "\n",
    "    actions = ['game_over']\n",
    "    transitions = []\n",
    "\n",
    "    for i in range(len(all_states)):\n",
    "        j, o = all_states[i]\n",
    "        for jj in range(0, len(j)):\n",
    "            valid_send, _to = send_sticks(_from=j[jj], _to=o[0])\n",
    "            action = ('send', jj, 0)\n",
    "            if valid_send:\n",
    "                if action not in actions:\n",
    "                    actions.append(action)\n",
    "                transitions.append({\n",
    "                    'state': make_state_string(all_states[i]),\n",
    "                    'next_state': make_state_string([(_to, o[1]), j]),\n",
    "                    'action': actions.index(action),\n",
    "                    'reward': r[index_map[make_state_string([(_to, o[1]), j])]]\n",
    "                })\n",
    "            else:\n",
    "                if action not in actions:\n",
    "                    actions.append(action)\n",
    "                transitions.append({\n",
    "                    'state': make_state_string(all_states[i]),\n",
    "                    'next_state': make_state_string([(o[0], o[1]), (0,0)]),\n",
    "                    'action': actions.index(action),\n",
    "                    'reward': -1\n",
    "                })\n",
    "\n",
    "            valid_send, _to = send_sticks(_from=j[jj], _to=o[1])\n",
    "            action = ('send', jj, 1)\n",
    "            if valid_send:\n",
    "                if action not in actions:\n",
    "                    actions.append(action)\n",
    "                transitions.append({\n",
    "                    'state': make_state_string(all_states[i]),\n",
    "                    'next_state': make_state_string([(o[0], _to), j]),\n",
    "                    'action': actions.index(action),\n",
    "                    'reward': r[index_map[make_state_string([(o[0], _to), j])]]\n",
    "                })\n",
    "            else:\n",
    "\n",
    "                if action not in actions:\n",
    "                    actions.append(action)\n",
    "                transitions.append({\n",
    "                    'state': make_state_string(all_states[i]),\n",
    "                    'next_state': make_state_string([(o[0], o[1]), (0, 0)]),\n",
    "                    'action': actions.index(action),\n",
    "                    'reward': -1\n",
    "                })\n",
    "\n",
    "            for l in range(1, 5):\n",
    "                #left to right\n",
    "                if jj == 0:\n",
    "                    f = 0\n",
    "                    t = 1\n",
    "                else:  # jj == 1:\n",
    "                    f = 1\n",
    "                    t = 0\n",
    "\n",
    "                valid_split, _from, _to = split_2P(_from=j[f], _to=j[t], number_sent=l)\n",
    "                action = ('split', f, t, l)\n",
    "                if valid_split:\n",
    "                    if action not in actions:\n",
    "                        actions.append(action)\n",
    "                    transitions.append({\n",
    "                        'state': make_state_string(all_states[i]),\n",
    "                        'next_state': make_state_string([o, (_from, _to)]),\n",
    "                        'action': actions.index(action),\n",
    "                        'reward': r[index_map[make_state_string([(_from, _to), o])]]\n",
    "                    })\n",
    "                else:\n",
    "                    if action not in actions:\n",
    "                        actions.append(action)\n",
    "                    transitions.append({\n",
    "                        'state': make_state_string(all_states[i]),\n",
    "                        'next_state': make_state_string([o, (0, 0)]),\n",
    "                        'action': actions.index(action),\n",
    "                        'reward': -1\n",
    "                    })\n",
    "\n",
    "        action = ('game_over')\n",
    "        if action not in actions:\n",
    "            actions.append(action)\n",
    "        \n",
    "        if get_reward(all_states[i]) == 0:\n",
    "            transitions.append({'state': make_state_string(all_states[i]),\n",
    "                            'next_state': make_state_string([o, (0,0)]),\n",
    "                            'action': actions.index(action),\n",
    "                            'reward': -4\n",
    "                            })\n",
    "        else:\n",
    "            transitions.append({'state': make_state_string(all_states[i]),\n",
    "                            'next_state': make_state_string([o, j]),\n",
    "                            'action': actions.index(action),\n",
    "                            'reward': r[index_map[make_state_string([o, j])]]\n",
    "                            })\n",
    "\n",
    "    return transitions, actions "
   ],
   "execution_count":19,
   "outputs":[
    
   ],
   "metadata":{
    "datalore":{
     "type":"CODE",
     "hide_input_from_viewers":true,
     "hide_output_from_viewers":false
    }
   }
  },
  {
   "cell_type":"code",
   "source":[
    "def generate_transition_probabilities(transactions):\n",
    "    action_states = pd.DataFrame([{\"action\": actions.index(action), \n",
    "                               \"state\": make_state_string(state),\n",
    "                               \"next_state\": make_state_string(next_state)} for next_state in all_states for state in all_states for action in actions])"
   ],
   "execution_count":20,
   "outputs":[
    
   ],
   "metadata":{
    "datalore":{
     "type":"CODE",
     "hide_input_from_viewers":true,
     "hide_output_from_viewers":false
    }
   }
  },
  {
   "cell_type":"code",
   "source":[
    "transitions, actions = get_transition_matrix(all_states)"
   ],
   "execution_count":21,
   "outputs":[
    
   ],
   "metadata":{
    "datalore":{
     "type":"CODE",
     "hide_input_from_viewers":true,
     "hide_output_from_viewers":false
    }
   }
  },
  {
   "cell_type":"code",
   "source":[
    "action_states = pd.DataFrame([{\"action\": actions.index(action), \n",
    "                               \"state\": make_state_string(state),\n",
    "                               \"next_state\": make_state_string(next_state)} for next_state in all_states for state in all_states for action in actions])"
   ],
   "execution_count":22,
   "outputs":[
    
   ],
   "metadata":{
    "datalore":{
     "type":"CODE",
     "hide_input_from_viewers":true,
     "hide_output_from_viewers":false
    }
   }
  },
  {
   "cell_type":"code",
   "source":[
    "print(f\"State Action Pairs: {action_states.shape[0]}\")"
   ],
   "execution_count":23,
   "outputs":[
    {
     "name":"stdout",
     "text":[
      "State Action Pairs: 5078125\n"
     ],
     "output_type":"stream"
    }
   ],
   "metadata":{
    "datalore":{
     "type":"CODE",
     "hide_input_from_viewers":true,
     "hide_output_from_viewers":false
    }
   }
  },
  {
   "cell_type":"code",
   "source":[
    "def generate_mdp_matrix(action_states, transitions):\n",
    "    t = pd.DataFrame(transitions)\n",
    "    t = t.merge(t[['state', 'next_state', 'reward']],\n",
    "                how='inner',\n",
    "                left_on='next_state',\n",
    "                right_on='state')[['state_x', 'action', 'next_state_y', 'reward_y']]\n",
    "    t.columns = ['state', 'action', 'next_state', 'reward']\n",
    "    # p calculation\n",
    "    p = (1 \/ (t[['state', 'action']].value_counts())).reset_index()\n",
    "    t = action_states.merge(t.merge(p, left_on=['state', 'action'], right_on=['state', 'action']),\n",
    "                            how='left',\n",
    "                            left_on=['state', 'action', 'next_state'],\n",
    "                            right_on=['state', 'action', 'next_state'])\n",
    "    t.columns = ['action', 'state', 'next_state', 'reward', 'p']\n",
    "    stocahstic_matrix_check = t.groupby(['state', 'action']).sum()[t.groupby(['state', 'action']).sum()['p'] == 0].reset_index()[['state', 'action', 'p']]\n",
    "    stocahstic_matrix_check['p'] = np.ones(stocahstic_matrix_check.shape[0])\n",
    "\n",
    "    #Finalize mdp matrix\n",
    "    t=t.merge(stocahstic_matrix_check,\n",
    "          how='left',\n",
    "          left_on = ['action','state', 'next_state'],\n",
    "          right_on=['action', 'state', 'state'])\n",
    "    t['p_x'] = t['p_x'].fillna(t['p_y'])\n",
    "    t['reward'] = t['reward'].fillna(0)\n",
    "    t.drop('p_y', axis=1, inplace=True)\n",
    "    t.columns = ['action','state','next_state','reward','p']\n",
    "    return t"
   ],
   "execution_count":24,
   "outputs":[
    
   ],
   "metadata":{
    "datalore":{
     "type":"CODE",
     "hide_input_from_viewers":true,
     "hide_output_from_viewers":false
    }
   }
  },
  {
   "cell_type":"code",
   "source":[
    "t = generate_mdp_matrix(action_states, transitions)"
   ],
   "execution_count":25,
   "outputs":[
    
   ],
   "metadata":{
    "datalore":{
     "type":"CODE",
     "hide_input_from_viewers":true,
     "hide_output_from_viewers":false
    }
   }
  },
  {
   "cell_type":"markdown",
   "source":[
    "#### MDPToolbox Processing\n",
    "\n",
    "After working through a lot of weird errors, I finally \n",
    "got MDPToolbox to finally accept my probability matrix. \n",
    "While I really want to formally compare the various \n",
    "outputs of MDPToolbox, I found that the policy\n",
    "generated by many of the algorithms didn't seem correct.\n",
    "I have spent a lot of hours playing with the rewards \n",
    "and discount to try to get something more reasonable. \n",
    "\n",
    "Using the Policy Iteration algorithm, it is evident that\n",
    "the algorithm converges and in a reasonable time."
   ],
   "attachments":{
    
   },
   "metadata":{
    "datalore":{
     "type":"MD",
     "hide_input_from_viewers":true,
     "hide_output_from_viewers":false
    }
   }
  },
  {
   "cell_type":"code",
   "source":[
    "def execute_mdp(P, mdp_algorithm, all_states):\n",
    "    P = P.groupby(['action','state','next_state']).agg({'reward': 'max', 'p': sum}).sort_values(['action','state']).reset_index()\n",
    "\n",
    "    p_matrix = P.pivot(['action', 'state'], 'next_state', 'p').to_numpy().reshape(13, 625, 625)\n",
    "    r_matrix = P.pivot(['action', 'state'], 'next_state', 'reward').to_numpy().reshape(13, 625, 625)\n",
    "\n",
    "    mdp = mdp_algorithm(p_matrix,  r_matrix, .99)\n",
    "    mdp.setSilent()\n",
    "    mdp.run()\n",
    "    state_action = []\n",
    "\n",
    "    for i in range(len(all_states)):\n",
    "        state_action.append({'policy_str': ','.join([str(j) for j in actions[mdp.policy[i]]]), \n",
    "                         'policy': mdp.policy[i],\n",
    "                         'value': mdp.V[i],\n",
    "                         'state': make_state_string(all_states[i])})\n",
    "    \n",
    "    policy = pd.DataFrame(state_action)\n",
    "    return mdp, policy"
   ],
   "execution_count":26,
   "outputs":[
    
   ],
   "metadata":{
    "datalore":{
     "type":"CODE",
     "hide_input_from_viewers":true,
     "hide_output_from_viewers":false
    }
   }
  },
  {
   "cell_type":"code",
   "source":[
    "mdp, policy = execute_mdp(t, ValueIteration, all_states)"
   ],
   "execution_count":27,
   "outputs":[
    
   ],
   "metadata":{
    "datalore":{
     "type":"CODE",
     "hide_input_from_viewers":true,
     "hide_output_from_viewers":false
    }
   }
  },
  {
   "cell_type":"markdown",
   "source":[
    "I really began to notice my problem when I went through a game with two perfect players—as defined by the optimal policy. By \n",
    "reviewing a sample of policies, we can see the recommended policies appear—intuitively—correct. Yet, the policy—amongst all \n",
    "algorithms—wants to cheat with an invalid move when the current state almost surely is headed towards a loss. "
   ],
   "attachments":{
    
   },
   "metadata":{
    "datalore":{
     "type":"MD",
     "hide_input_from_viewers":true,
     "hide_output_from_viewers":true
    }
   }
  },
  {
   "cell_type":"code",
   "source":[
    "display(policy.sample(10, random_state=100)[['state', 'policy_str','value']])"
   ],
   "execution_count":28,
   "outputs":[
    {
     "data":{
      "text\/html":[
       "<div>\n",
       "<style scoped>\n",
       "    .dataframe tbody tr th:only-of-type {\n",
       "        vertical-align: middle;\n",
       "    }\n",
       "\n",
       "    .dataframe tbody tr th {\n",
       "        vertical-align: top;\n",
       "    }\n",
       "\n",
       "    .dataframe thead th {\n",
       "        text-align: right;\n",
       "    }\n",
       "<\/style>\n",
       "<table border=\"1\" class=\"dataframe\">\n",
       "  <thead>\n",
       "    <tr style=\"text-align: right;\">\n",
       "      <th><\/th>\n",
       "      <th>state<\/th>\n",
       "      <th>policy_str<\/th>\n",
       "      <th>value<\/th>\n",
       "    <\/tr>\n",
       "  <\/thead>\n",
       "  <tbody>\n",
       "    <tr>\n",
       "      <th>462<\/th>\n",
       "      <td>[(3,3),(2,2)]<\/td>\n",
       "      <td>send,0,0<\/td>\n",
       "      <td>98.040497<\/td>\n",
       "    <\/tr>\n",
       "    <tr>\n",
       "      <th>200<\/th>\n",
       "      <td>[(1,3),(0,0)]<\/td>\n",
       "      <td>g,a,m,e,_,o,v,e,r<\/td>\n",
       "      <td>99.990058<\/td>\n",
       "    <\/tr>\n",
       "    <tr>\n",
       "      <th>397<\/th>\n",
       "      <td>[(3,0),(4,2)]<\/td>\n",
       "      <td>send,0,1<\/td>\n",
       "      <td>97.607869<\/td>\n",
       "    <\/tr>\n",
       "    <tr>\n",
       "      <th>75<\/th>\n",
       "      <td>[(0,3),(0,0)]<\/td>\n",
       "      <td>g,a,m,e,_,o,v,e,r<\/td>\n",
       "      <td>99.990058<\/td>\n",
       "    <\/tr>\n",
       "    <tr>\n",
       "      <th>259<\/th>\n",
       "      <td>[(2,0),(1,4)]<\/td>\n",
       "      <td>send,0,1<\/td>\n",
       "      <td>97.776924<\/td>\n",
       "    <\/tr>\n",
       "    <tr>\n",
       "      <th>260<\/th>\n",
       "      <td>[(2,0),(2,0)]<\/td>\n",
       "      <td>split,0,1,1<\/td>\n",
       "      <td>98.031200<\/td>\n",
       "    <\/tr>\n",
       "    <tr>\n",
       "      <th>513<\/th>\n",
       "      <td>[(4,0),(2,3)]<\/td>\n",
       "      <td>send,0,1<\/td>\n",
       "      <td>97.596598<\/td>\n",
       "    <\/tr>\n",
       "    <tr>\n",
       "      <th>427<\/th>\n",
       "      <td>[(3,2),(0,2)]<\/td>\n",
       "      <td>send,0,1<\/td>\n",
       "      <td>99.990058<\/td>\n",
       "    <\/tr>\n",
       "    <tr>\n",
       "      <th>376<\/th>\n",
       "      <td>[(3,0),(0,1)]<\/td>\n",
       "      <td>split,0,1,1<\/td>\n",
       "      <td>97.839531<\/td>\n",
       "    <\/tr>\n",
       "    <tr>\n",
       "      <th>157<\/th>\n",
       "      <td>[(1,1),(1,2)]<\/td>\n",
       "      <td>send,0,0<\/td>\n",
       "      <td>97.400688<\/td>\n",
       "    <\/tr>\n",
       "  <\/tbody>\n",
       "<\/table>\n",
       "<\/div>"
      ]
     },
     "metadata":{
      
     },
     "output_type":"display_data"
    }
   ],
   "metadata":{
    "datalore":{
     "type":"CODE",
     "hide_input_from_viewers":true,
     "hide_output_from_viewers":false
    }
   }
  },
  {
   "cell_type":"code",
   "source":[
    "policy[policy['state']=='[(1,1),(1,1)]']['policy_str'].iloc[0].split(\",\")"
   ],
   "execution_count":29,
   "outputs":[
    {
     "data":{
      "text\/plain":[
       "['send', '0', '0']"
      ]
     },
     "metadata":{
      
     },
     "output_type":"display_data"
    }
   ],
   "metadata":{
    "datalore":{
     "type":"CODE",
     "hide_input_from_viewers":false,
     "hide_output_from_viewers":false
    }
   }
  },
  {
   "cell_type":"code",
   "source":[
    "policy.to_json(\"2p.json\")"
   ],
   "execution_count":30,
   "outputs":[
    
   ],
   "metadata":{
    "datalore":{
     "type":"CODE",
     "hide_input_from_viewers":false,
     "hide_output_from_viewers":false
    }
   }
  },
  {
   "cell_type":"code",
   "source":[
    "policy.value.hist()"
   ],
   "execution_count":31,
   "outputs":[
    {
     "data":{
      "text\/plain":[
       "<AxesSubplot:>"
      ],
      "image\/png":"[encoded data removed]"
     },
     "metadata":{
      "image\/png":{
       
      }
     },
     "output_type":"display_data"
    }
   ],
   "metadata":{
    "datalore":{
     "type":"CODE",
     "hide_input_from_viewers":true,
     "hide_output_from_viewers":false
    }
   }
  },
  {
   "cell_type":"markdown",
   "source":[
    "### What Move Should I take?\n",
    "\n",
    "The MDP policy really doesn't like defensive moves when playing with 2 players. When in doubt always attack your opponent."
   ],
   "attachments":{
    
   },
   "metadata":{
    "datalore":{
     "type":"MD",
     "hide_input_from_viewers":true,
     "hide_output_from_viewers":false
    }
   }
  },
  {
   "cell_type":"code",
   "source":[
    "policy.policy_str.value_counts()"
   ],
   "execution_count":32,
   "outputs":[
    {
     "data":{
      "text\/html":[
       
      ]
     },
     "metadata":{
      
     },
     "output_type":"display_data"
    }
   ],
   "metadata":{
    "datalore":{
     "type":"CODE",
     "hide_input_from_viewers":true,
     "hide_output_from_viewers":false
    }
   }
  },
  {
   "cell_type":"markdown",
   "source":[
    "## MDP Against Random CPU\n",
    "\n",
    "When I used the policy against my random CPU, the MDP won $99%$ of the game regardless of which player took the first turn. When\n",
    "the Policy plays against itself, a stale-mate occurs. This is where I would like to add adjust of the explore vs exploitation \n",
    "of my agent. It makes complete sense that the MDP would lose on occasion to a random player. However, I think this project could\n",
    "be improved many ways including but not limited to: 1) adjusting the reward functions, 2) applying different algorithms, 3), allowing\n",
    "the algorithm to choose moves probabilistically (ie doesn't always take the best move). The most astonishing thing was that the \n",
    "best policy from [Wikihow](https:\/\/www.wikihow.com\/Always-Win-Chopsticks) article on _How to Always Win Chopsticks_ doesn't match the\n",
    "policy generated by the MDP algorithm. I'll be looking into this and understand why. \n",
    "\n",
    "In this project, I originally set out to come up with a generic policy that could be used on $n$ players and $m$ hands. I wanted \n",
    "to learn more about the kd tree search algorithm that AlphaGo to help aid in large state spaces. Yet, I found myself really struggling\n",
    "with wrangling the right transition matrix, the right state space, the sampling of the state space. In a lot of ways I feel like I totally bombed \n",
    "this project, yet, I feel like the struggle has allowed me to progress and puch through. That said, I feel like I failure in my initial \n",
    "goals and objects; however, I feel much more confident in implementing and utilizing the various MDP algorithms."
   ],
   "attachments":{
    
   },
   "metadata":{
    "datalore":{
     "type":"MD",
     "hide_input_from_viewers":true,
     "hide_output_from_viewers":false
    }
   }
  },
  {
   "cell_type":"markdown",
   "source":[
    "### 3 Players\n",
    "\n",
    "I realize that I have to modify the function to get my transition matrix to get all the interactions between an $n$ number \n",
    "of states. This isn't an easy change and I'm running out time. I'm going to try to focus on evaluating this using my \n",
    "simulations; however, I don't feel that confident in my approach to getting all the states. My goal is to try to use something \n",
    "like the kd tree that AlphaGo uses. However, it is taking me a while to get through the book to try to build that out."
   ],
   "attachments":{
    
   },
   "metadata":{
    "datalore":{
     "type":"MD",
     "hide_input_from_viewers":true,
     "hide_output_from_viewers":false
    }
   }
  },
  {
   "cell_type":"code",
   "source":[
    "all_states = generate_states(3)\n",
    "transitions, actions = get_transition_matrix(all_states)\n",
    "action_states = pd.DataFrame([{\"action\": actions.index(action), \n",
    "                               \"state\": make_state_string(state),\n",
    "                               \"next_state\": make_state_string(next_state)} for next_state in all_states for state in all_states for action in actions])\n",
    "t = generate_mdp_matrix(action_states, transitions)\n",
    "mdp, policy = execute_mdp(t, ValueIteration, all_states)\n",
    "\n",
    "policy.value.hist()"
   ],
   "execution_count":33,
   "outputs":[
    {
     "ename":"ValueError",
     "evalue":"ValueError: too many values to unpack (expected 2)",
     "traceback":[
      "\u001b[0;31m---------------------------------------------------------------------------",
      "Traceback (most recent call last)",
      "    at line 2 in <module>",
      "    at line 8 in get_transition_matrix(all_states)",
      "ValueError: too many values to unpack (expected 2)"
     ],
     "output_type":"error"
    }
   ],
   "metadata":{
    "datalore":{
     "type":"CODE",
     "hide_input_from_viewers":true,
     "hide_output_from_viewers":false
    }
   }
  },
  {
   "cell_type":"markdown",
   "source":[
    "### Random Simulation\n",
    "\n",
    "After building the game, a series of random simulations were used to test the code. Instead of throwing these simulated games \n",
    "away, I am going to try to use them to establish baseline probabilities to try to jump start the reinforcement algorithm. \n",
    "\n",
    "#### Initial Observation given Random Simulations\n",
    "\n",
    "Given the fairly large sample of random states from testing, we can clearly see that the majority of the states have negative \n",
    "values. Initial observations yield that all states possess a negative value. This makes sense given two reasons: 1) each player \n",
    "has a 2\/3 chance of losing and 2) there are significantly more losing states than winning states. "
   ],
   "attachments":{
    
   },
   "metadata":{
    "datalore":{
     "type":"MD",
     "hide_input_from_viewers":true,
     "hide_output_from_viewers":false
    }
   }
  },
  {
   "cell_type":"markdown",
   "source":[
    "### 3 Players \n",
    "\n",
    "This was my first attempt at this whole project; however, I couldn't quite get the data and the algorithm appropriate \n",
    "wrangled together. From my brief-potentially wrong- analysis. The game changes from 2 to 3 player from an offensive \n",
    "game to a more defensive. With 3 players, it appears that the goal is to survive and the likelihood of losing is \n",
    "$\\frac{2}{3}$ at base. That said, my initial thought was to switch to a 2 player game when a player was eliminated. \n",
    "But I think that I am going to have settle for comparing some of the values of states for two people."
   ],
   "attachments":{
    
   },
   "metadata":{
    "datalore":{
     "type":"MD",
     "hide_input_from_viewers":true,
     "hide_output_from_viewers":false
    }
   }
  },
  {
   "cell_type":"markdown",
   "source":[
    "##### Manual Bellman Equation Implementation"
   ],
   "attachments":{
    
   },
   "metadata":{
    "datalore":{
     "type":"MD",
     "hide_input_from_viewers":true,
     "hide_output_from_viewers":false
    }
   }
  },
  {
   "cell_type":"code",
   "source":[
    "state = pd.read_json(\"state_change_matrix.json\")"
   ],
   "execution_count":2,
   "outputs":[
    
   ],
   "metadata":{
    "datalore":{
     "type":"CODE",
     "hide_input_from_viewers":true,
     "hide_output_from_viewers":false
    }
   }
  },
  {
   "cell_type":"code",
   "source":[
    "state_value = state[['s','s_prime','p','reward_prime']].drop_duplicates()\n",
    "all_states = pd.DataFrame(pd.concat([state['s'], state['s_prime']]).drop_duplicates(), columns=['s'])\n",
    "\n",
    "state_value = all_states.merge(state_value, how='left',left_on='s', right_on='s').set_index('s').sort_index()\n",
    "rewards = pd.merge(left=all_states, right=state_value[['s_prime','reward_prime']].drop_duplicates(), left_on='s',right_on='s_prime', how='left', suffixes=('','_value'))[['s','reward_prime']].set_index('s').sort_index()\n",
    "rewards = rewards.dropna()\n",
    "\n",
    "state_value = state_value.merge(rewards, right_index=True, left_index=True)\n",
    "state_value['s_prime'] = state_value.apply(lambda row: row.name if (row['reward_prime_y'] != 0 or row['reward_prime_y'] is np.nan)  else row['s_prime'] , axis = 1)\n",
    "state_value = state_value.drop(['reward_prime_x', 'reward_prime_y'], axis=1)\n",
    "state_value_1 = state_value[~state_value['s_prime'].isna()].reset_index()\n",
    "P = state_value_1.pivot('s','s_prime','p').fillna(0).sort_index()\n",
    "v = rewards.to_numpy()\n",
    "for i in range(0, 1000):\n",
    "    v = rewards.to_numpy() + .99 * np.dot(P.to_numpy(), v)"
   ],
   "execution_count":3,
   "outputs":[
    
   ],
   "metadata":{
    "datalore":{
     "type":"CODE",
     "hide_input_from_viewers":true,
     "hide_output_from_viewers":false
    }
   }
  },
  {
   "cell_type":"markdown",
   "source":[
    "# References\n",
    "\n",
    "Chadès, Iadine, Guillaume Chapron, Marie‐Josée Cros, Frédérick Garcia, and Régis Sabbadin.\n",
    "\"MDPtoolbox: a multi‐platform toolbox to solve stochastic dynamic programming problems.\" Ecography\n",
    "37, no. 9 (2014): 916-920.\n",
    "\n",
    "Pumperla, M., & Ferguson, K. (2019). Deep learning and the game of go. Manning Publications.\n",
    "\n",
    "Richard S. Sutton and Andrew G. Barto. 2018. Reinforcement Learning: An Introduction. A Bradford Book, Cambridge, MA, USA.\n",
    "\n",
    "RL Course by David Silver - Lecture 2: Markov Decision Process https:\/\/www.youtube.com\/watch?v=lfHX2hHRMVQ&list=PLqYmG7hTraZBiG_XpjnPrSNw-1XQaM_gB&index=3\n",
    "\n",
    "Silver, D., Huang, A., Maddison, C. et al. Mastering the game of Go with deep neural networks and tree search. Nature 529, 484–489 (2016). https:\/\/doi.org\/10.1038\/nature16961"
   ],
   "attachments":{
    
   },
   "metadata":{
    "datalore":{
     "type":"MD",
     "hide_input_from_viewers":true,
     "hide_output_from_viewers":true
    }
   }
  },
  {
   "cell_type":"markdown",
   "source":[
    "### Baby's Schedule\n",
    "\n",
    "My wife and I typically have kept vigilant records of the first couple of months of life for both our children. We have \n",
    "found that this helps with their overall health and wellness by establishing good, consistent routines; as well as our own \n",
    "mental health. We can quickly diagnose problems or reasons for them being upset with relative ease through expectation regarding \n",
    "the inter-arrival time of naps, food, and bowel movements and the renewals of the daily epochs. I am also expecting to see different behavior from us being\n",
    "having no experience as a parent vs having the experience of already having a child.  \n",
    "\n",
    "As is customary, I fully expect the inter-arrival times of activities to follow an exponential distribution and \n",
    "the number of naps in a given day to mirror to be a Poisson process. \n"
   ],
   "attachments":{
    
   },
   "metadata":{
    "datalore":{
     "type":"MD",
     "hide_input_from_viewers":true,
     "hide_output_from_viewers":true
    }
   }
  },
  {
   "cell_type":"code",
   "source":[
    "import logging\n",
    "import os\n",
    "\n",
    "import torch\n",
    "import numpy as np\n",
    "import pandas as pd\n",
    "import seaborn as sns\n",
    "import matplotlib.pyplot as plt\n",
    "\n",
    "import pyro"
   ],
   "execution_count":220,
   "outputs":[
    
   ],
   "metadata":{
    "datalore":{
     "type":"CODE",
     "hide_input_from_viewers":true,
     "hide_output_from_viewers":false
    }
   }
  },
  {
   "cell_type":"code",
   "source":[
    "pyro.enable_validation(True)\n",
    "pyro.set_rng_seed(1250)"
   ],
   "execution_count":221,
   "outputs":[
    
   ],
   "metadata":{
    "datalore":{
     "type":"CODE",
     "hide_input_from_viewers":true,
     "hide_output_from_viewers":false
    }
   }
  },
  {
   "cell_type":"code",
   "source":[
    "schedule = pd.read_csv(\"baby_data.csv\").iloc[:,1:]\n",
    "schedule.Time = pd.to_datetime(schedule.Time)\n",
    "\n",
    "schedule['next_activity_time'] = schedule.groupby('Baby').shift(-1)['Time']\n",
    "schedule['next_activity'] = schedule.groupby('Baby').shift(-1)['activity']\n",
    "schedule['diff'] = (schedule['next_activity_time'] - schedule.Time).dt.components['hours']\n",
    "schedule[\"Duration(minutes)\"] = pd.to_timedelta(schedule[\"Duration(minutes)\"].fillna(1), 'minute')\n",
    "schedule = schedule.reset_index()"
   ],
   "execution_count":257,
   "outputs":[
    
   ],
   "metadata":{
    "datalore":{
     "type":"CODE",
     "hide_input_from_viewers":true,
     "hide_output_from_viewers":false
    }
   }
  },
  {
   "cell_type":"markdown",
   "source":[
    "## Long Term Probabilities"
   ],
   "attachments":{
    
   },
   "metadata":{
    "datalore":{
     "type":"MD",
     "hide_input_from_viewers":true,
     "hide_output_from_viewers":false
    }
   }
  },
  {
   "cell_type":"markdown",
   "source":[
    "I remember telling one of the first babysitters, \" If Addie Mae gets upset you have a 1\/3 chance that she needs sleep, food \n",
    "or a diaper change.\" While this statement is true about the reason for the problem-especially for an infant, the probabilities\n",
    "might not neccessarily be truly a third.\n",
    "\n",
    "After looking at the long-run probabilities, I can quickly give a babysitter the order in which I would try to calm our upset \n",
    "child. These results have flabbergasted my wife and I, we would have never expected that my second child would have a higher \n",
    "probability of being in a state of nursing. My wife makes several comments about how it seems like she was always feeding our \n",
    "first because of the uncertainty that is partnered with being a first time parent. After some careful consideration, I think it \n",
    "would be wise to condition the probability on the child's age. Since my youngest hasn't hit the same stages where she is eating 3 or 4\n",
    "distinct meals, I think it would be more insightful to see this conditioned on the age of the child."
   ],
   "attachments":{
    
   },
   "metadata":{
    "datalore":{
     "type":"MD",
     "hide_input_from_viewers":true,
     "hide_output_from_viewers":false
    }
   }
  },
  {
   "cell_type":"markdown",
   "source":[
    "#### Transition Probability Matrix"
   ],
   "attachments":{
    
   },
   "metadata":{
    "datalore":{
     "type":"MD",
     "hide_input_from_viewers":true,
     "hide_output_from_viewers":false
    }
   }
  },
  {
   "cell_type":"code",
   "source":[
    "activity_matrix = schedule.groupby(['Baby', 'activity','next_activity']).agg({'Time': 'count'}).reset_index().pivot(['Baby','activity'], 'next_activity','Time')\n",
    "\n",
    "states = activity_matrix.columns\n",
    "\n",
    "activity_matrix = activity_matrix.div(activity_matrix.sum(axis=1), axis=0).fillna(0)\n",
    "\n",
    "activity_matrix"
   ],
   "execution_count":258,
   "outputs":[
    {
     "data":{
      "text\/html":[
       "<div>\n",
       "<style scoped>\n",
       "    .dataframe tbody tr th:only-of-type {\n",
       "        vertical-align: middle;\n",
       "    }\n",
       "\n",
       "    .dataframe tbody tr th {\n",
       "        vertical-align: top;\n",
       "    }\n",
       "\n",
       "    .dataframe thead th {\n",
       "        text-align: right;\n",
       "    }\n",
       "<\/style>\n",
       "<table border=\"1\" class=\"dataframe\">\n",
       "  <thead>\n",
       "    <tr style=\"text-align: right;\">\n",
       "      <th><\/th>\n",
       "      <th>next_activity<\/th>\n",
       "      <th>diaper<\/th>\n",
       "      <th>nursing<\/th>\n",
       "      <th>sleep<\/th>\n",
       "    <\/tr>\n",
       "    <tr>\n",
       "      <th>Baby<\/th>\n",
       "      <th>activity<\/th>\n",
       "      <th><\/th>\n",
       "      <th><\/th>\n",
       "      <th><\/th>\n",
       "    <\/tr>\n",
       "  <\/thead>\n",
       "  <tbody>\n",
       "    <tr>\n",
       "      <th rowspan=\"3\" valign=\"top\">1<\/th>\n",
       "      <th>diaper<\/th>\n",
       "      <td>0.143791<\/td>\n",
       "      <td>0.856209<\/td>\n",
       "      <td>0.000000<\/td>\n",
       "    <\/tr>\n",
       "    <tr>\n",
       "      <th>nursing<\/th>\n",
       "      <td>0.079684<\/td>\n",
       "      <td>0.181265<\/td>\n",
       "      <td>0.739051<\/td>\n",
       "    <\/tr>\n",
       "    <tr>\n",
       "      <th>sleep<\/th>\n",
       "      <td>0.000000<\/td>\n",
       "      <td>0.695702<\/td>\n",
       "      <td>0.304298<\/td>\n",
       "    <\/tr>\n",
       "    <tr>\n",
       "      <th rowspan=\"3\" valign=\"top\">2<\/th>\n",
       "      <th>diaper<\/th>\n",
       "      <td>0.111111<\/td>\n",
       "      <td>0.648148<\/td>\n",
       "      <td>0.240741<\/td>\n",
       "    <\/tr>\n",
       "    <tr>\n",
       "      <th>nursing<\/th>\n",
       "      <td>0.026391<\/td>\n",
       "      <td>0.226047<\/td>\n",
       "      <td>0.747562<\/td>\n",
       "    <\/tr>\n",
       "    <tr>\n",
       "      <th>sleep<\/th>\n",
       "      <td>0.001235<\/td>\n",
       "      <td>0.810994<\/td>\n",
       "      <td>0.187770<\/td>\n",
       "    <\/tr>\n",
       "  <\/tbody>\n",
       "<\/table>\n",
       "<\/div>"
      ]
     },
     "metadata":{
      
     },
     "output_type":"display_data"
    }
   ],
   "metadata":{
    "datalore":{
     "type":"CODE",
     "hide_input_from_viewers":true,
     "hide_output_from_viewers":false
    }
   }
  },
  {
   "cell_type":"markdown",
   "source":[
    "#### Long Term Probabilities"
   ],
   "attachments":{
    
   },
   "metadata":{
    "datalore":{
     "type":"MD",
     "hide_input_from_viewers":true,
     "hide_output_from_viewers":false
    }
   }
  },
  {
   "cell_type":"code",
   "source":[
    "\n",
    "am = activity_matrix.to_numpy().reshape(2,3,3)\n",
    "\n",
    "p_state_t = []\n",
    "for i in range(len(am)):\n",
    "    p_state_t.append([])\n",
    "    a = np.zeros(3)\n",
    "    a.put(2, 1)\n",
    "    for j in range(10**4):\n",
    "        a = a @ am[i] \n",
    "        p_state_t[i].append(a)\n",
    "\n",
    "pd.concat([pd.DataFrame(p_state_t[0][-1], index=states.rename(\"Activity\"), columns=[\"Child 1\"]),\n",
    "           pd.DataFrame(p_state_t[1][-1], index=states, columns=[\"Child 2\"])], axis=1)"
   ],
   "execution_count":259,
   "outputs":[
    {
     "data":{
      "text\/html":[
       "<div>\n",
       "<style scoped>\n",
       "    .dataframe tbody tr th:only-of-type {\n",
       "        vertical-align: middle;\n",
       "    }\n",
       "\n",
       "    .dataframe tbody tr th {\n",
       "        vertical-align: top;\n",
       "    }\n",
       "\n",
       "    .dataframe thead th {\n",
       "        text-align: right;\n",
       "    }\n",
       "<\/style>\n",
       "<table border=\"1\" class=\"dataframe\">\n",
       "  <thead>\n",
       "    <tr style=\"text-align: right;\">\n",
       "      <th><\/th>\n",
       "      <th>Child 1<\/th>\n",
       "      <th>Child 2<\/th>\n",
       "    <\/tr>\n",
       "  <\/thead>\n",
       "  <tbody>\n",
       "    <tr>\n",
       "      <th>diaper<\/th>\n",
       "      <td>0.043178<\/td>\n",
       "      <td>0.015803<\/td>\n",
       "    <\/tr>\n",
       "    <tr>\n",
       "      <th>nursing<\/th>\n",
       "      <td>0.463956<\/td>\n",
       "      <td>0.510062<\/td>\n",
       "    <\/tr>\n",
       "    <tr>\n",
       "      <th>sleep<\/th>\n",
       "      <td>0.492865<\/td>\n",
       "      <td>0.474136<\/td>\n",
       "    <\/tr>\n",
       "  <\/tbody>\n",
       "<\/table>\n",
       "<\/div>"
      ]
     },
     "metadata":{
      
     },
     "output_type":"display_data"
    }
   ],
   "metadata":{
    "datalore":{
     "type":"CODE",
     "hide_input_from_viewers":true,
     "hide_output_from_viewers":false
    }
   }
  },
  {
   "cell_type":"markdown",
   "source":[
    "## Renewal Theory\n",
    "\n",
    "We have established that the inter-arrival times in a state is exponential; however, I feel that there is more that I can \n",
    "do with this data particularly using renewal theory and Semi-Markov processes. I would really like to try to identify changes \n",
    "in sleep patterns as both my children age out of the infant and toddler phases. \n",
    "\n",
    "### Inter-arrival Times\n",
    "\n",
    "Using the eyeball test, the inter-arrival times betweena activities appears to match to a geometric distribution. \n",
    "However, we can also tell that there is some divergence from the distribution. My intial guess is that this occurs over-night; \n",
    "once the child begins sleeping through the night. I wonder what would happen if I fully made this a renewal process with something\n",
    "like an end of day state. "
   ],
   "attachments":{
    
   },
   "metadata":{
    "datalore":{
     "type":"MD",
     "hide_input_from_viewers":true,
     "hide_output_from_viewers":false
    }
   }
  },
  {
   "cell_type":"code",
   "source":[
    "sns.displot(x=schedule['diff'], hue=schedule['activity'], kind=\"kde\")"
   ],
   "execution_count":260,
   "outputs":[
    {
     "data":{
      "text\/plain":[
       "<seaborn.axisgrid.FacetGrid at 0x7fddc2373a00>"
      ],
      "image\/png":"[encoded data removed]"
     },
     "metadata":{
      "image\/png":{
       
      }
     },
     "output_type":"display_data"
    }
   ],
   "metadata":{
    "datalore":{
     "type":"CODE",
     "hide_input_from_viewers":true,
     "hide_output_from_viewers":false
    }
   }
  },
  {
   "cell_type":"code",
   "source":[
    "sns.displot(x=schedule['diff'], hue=schedule['Baby'], kind='kde')"
   ],
   "execution_count":261,
   "outputs":[
    {
     "data":{
      "text\/plain":[
       "<seaborn.axisgrid.FacetGrid at 0x7fddc517daf0>"
      ],
      "image\/png":"[encoded data removed]"
     },
     "metadata":{
      "image\/png":{
       
      }
     },
     "output_type":"display_data"
    }
   ],
   "metadata":{
    "datalore":{
     "type":"CODE",
     "hide_input_from_viewers":true,
     "hide_output_from_viewers":false
    }
   }
  },
  {
   "cell_type":"markdown",
   "source":[
    " "
   ],
   "attachments":{
    
   },
   "metadata":{
    "datalore":{
     "type":"MD",
     "hide_input_from_viewers":true,
     "hide_output_from_viewers":false
    }
   }
  },
  {
   "cell_type":"code",
   "source":[
    "awake_time = pd.DataFrame(schedule['Time'] + schedule[\"Duration(minutes)\"], columns=['Time'])\n",
    "awake_time['activity'] = 'wake'\n",
    "awake_time['Baby'] = schedule['Baby']"
   ],
   "execution_count":262,
   "outputs":[
    
   ],
   "metadata":{
    "datalore":{
     "type":"CODE",
     "hide_input_from_viewers":true,
     "hide_output_from_viewers":false
    }
   }
  },
  {
   "cell_type":"code",
   "source":[
    "schedule = pd.concat([schedule, awake_time]).sort_values('Time')\n",
    "schedule['next_activity_time'] = schedule.groupby('Baby').shift(-1)['Time']\n",
    "schedule['next_activity'] = schedule.groupby('Baby').shift(-1)['activity']\n",
    "schedule['prior_activity'] = schedule.groupby('Baby').shift(1)['activity']\n",
    "schedule['diff'] = (schedule['next_activity_time'] - schedule.Time).dt.components['hours']"
   ],
   "execution_count":265,
   "outputs":[
    
   ],
   "metadata":{
    "datalore":{
     "type":"CODE",
     "hide_input_from_viewers":true,
     "hide_output_from_viewers":false
    }
   }
  },
  {
   "cell_type":"code",
   "source":[
    "from scipy.stats import expon\n",
    "sns.displot(schedule[schedule['activity']=='wake']['diff'], kind='kde', bw_adjust=3)"
   ],
   "execution_count":277,
   "outputs":[
    {
     "data":{
      "text\/plain":[
       "<seaborn.axisgrid.FacetGrid at 0x7fddc1e57490>"
      ],
      "image\/png":"[encoded data removed]"
     },
     "metadata":{
      "image\/png":{
       
      }
     },
     "output_type":"display_data"
    }
   ],
   "metadata":{
    "datalore":{
     "type":"CODE",
     "hide_input_from_viewers":true,
     "hide_output_from_viewers":false
    }
   }
  },
  {
   "cell_type":"markdown",
   "source":[
    "# Markov Reward Process"
   ],
   "attachments":{
    
   },
   "metadata":{
    "datalore":{
     "type":"MD",
     "hide_input_from_viewers":false,
     "hide_output_from_viewers":false,
     "sheet_delimiter":true
    }
   }
  },
  {
   "cell_type":"code",
   "source":[
    "\n",
    "# state_value = state[['s','s_prime','p','reward_prime']].drop_duplicates()\n",
    "# all_states = pd.DataFrame(pd.concat([state['s'], state['s_prime']]).drop_duplicates(), columns=['s'])\n",
    "\n",
    "# state_value = all_states.merge(state_value, how='left',left_on='s', right_on='s').set_index('s').sort_index()\n",
    "# rewards = pd.merge(left=all_states, right=state_value[['s_prime','reward_prime']].drop_duplicates(), left_on='s',right_on='s_prime', how='left', suffixes=('','_value'))[['s','reward_prime']].set_index('s').sort_index()\n",
    "# rewards = rewards.dropna()\n",
    "\n",
    "# state_value = state_value.merge(rewards, right_index=True, left_index=True)\n",
    "# state_value['s_prime'] = state_value.apply(lambda row: row.name if (row['reward_prime_y'] != 0 or row['reward_prime_y'] is np.nan)  else row['s_prime'] , axis = 1)\n",
    "# state_value = state_value.drop(['reward_prime_x', 'reward_prime_y'], axis=1)\n",
    "# state_value_1 = state_value[~state_value['s_prime'].isna()].reset_index()\n",
    "# P = state_value_1.pivot('s','s_prime','p').fillna(0).sort_index()\n",
    "# v = rewards.to_numpy()\n",
    "# for i in range(0, 1000):\n",
    "#     v = rewards.to_numpy() + np.dot(P.to_numpy(), v)"
   ],
   "execution_count":64,
   "outputs":[
    
   ],
   "metadata":{
    "datalore":{
     "type":"CODE",
     "hide_input_from_viewers":true,
     "hide_output_from_viewers":true
    }
   }
  }
 ],
 "metadata":{
  "datalore":{
   "version":1,
   "computation_mode":"JUPYTER",
   "package_manager":"pip",
   "base_environment":"default",
   "packages":[
    {
     "name":"pymongo",
     "version":"4.1.1",
     "source":"PIP"
    },
    {
     "name":"dnspython",
     "version":"2.2.1",
     "source":"PIP"
    },
    {
     "name":"xarray",
     "version":"2022.3.0",
     "source":"PIP"
    },
    {
     "name":"pymdptoolbox",
     "source":"PIP"
    },
    {
     "name":"tensorflow-probability",
     "version":"0.16.0.dev20220214",
     "source":"PIP"
    },
    {
     "name":"tensorflow-cpu",
     "version":"2.8.0",
     "source":"PIP"
    },
    {
     "name":"tensorflow-estimator",
     "version":"2.8.0",
     "source":"PIP"
    },
    {
     "name":"pyro",
     "version":"3.16",
     "source":"PIP"
    },
    {
     "name":"pyro-ppl",
     "version":"1.8.1",
     "source":"PIP"
    }
   ]
  }
 },
 "nbformat":4,
 "nbformat_minor":4
}